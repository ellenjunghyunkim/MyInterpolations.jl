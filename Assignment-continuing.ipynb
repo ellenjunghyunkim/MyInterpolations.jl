{
 "cells": [
  {
   "cell_type": "code",
   "execution_count": 78,
   "metadata": {
    "collapsed": false
   },
   "outputs": [
    {
     "data": {
      "text/plain": [
       "ellenpola (generic function with 1 method)"
      ]
     },
     "execution_count": 78,
     "metadata": {},
     "output_type": "execute_result"
    }
   ],
   "source": [
    "function ellenpola(grid, vals)\n",
    "    function func(x)\n",
    "        n=Base.tan(grid)\n",
    "        f(x)(0<=x<=8)\n",
    "        if x<grid[-2pi];x>grid[n]    \n",
    "            return \"error\"\n",
    "        end\n",
    "        for x=grid[n]\n",
    "            return vals[n]\n",
    "        end\n",
    "        if grid[-2pi]>=x>n\n",
    "            z=searcsortedfirst(x,grid)\n",
    "            slpe=(vals[z+1]-[z])/(grid[z+1]-grid[z])\n",
    "            y=slope*(x-grid[z])+vals[z]\n",
    "                return y\n",
    "                end\n",
    "        end\n",
    "        return func\n",
    "    \n",
    "end"
   ]
  },
  {
   "cell_type": "code",
   "execution_count": 2,
   "metadata": {
    "collapsed": false
   },
   "outputs": [
    {
     "ename": "LoadError",
     "evalue": "LoadError: UndefVarError: ellenenpola not defined\nwhile loading In[2], in expression starting on line 3",
     "output_type": "error",
     "traceback": [
      "LoadError: UndefVarError: ellenenpola not defined\nwhile loading In[2], in expression starting on line 3",
      ""
     ]
    }
   ],
   "source": [
    "grid = [0, 8]\n",
    "vals = [3, 5]\n",
    "f = ellenenpola(grid, vals) \n",
    "\n",
    "f(4)"
   ]
  },
  {
   "cell_type": "code",
   "execution_count": null,
   "metadata": {
    "collapsed": true
   },
   "outputs": [],
   "source": []
  },
  {
   "cell_type": "code",
   "execution_count": null,
   "metadata": {
    "collapsed": true
   },
   "outputs": [],
   "source": []
  }
 ],
 "metadata": {
  "kernelspec": {
   "display_name": "Julia 0.4.5",
   "language": "julia",
   "name": "julia-0.4"
  },
  "language_info": {
   "file_extension": ".jl",
   "mimetype": "application/julia",
   "name": "julia",
   "version": "0.4.5"
  }
 },
 "nbformat": 4,
 "nbformat_minor": 0
}
