{
 "cells": [
  {
   "cell_type": "code",
   "execution_count": 1,
   "metadata": {
    "collapsed": false
   },
   "outputs": [],
   "source": [
    "using MyInterpolations"
   ]
  },
  {
   "cell_type": "code",
   "execution_count": 2,
   "metadata": {
    "collapsed": false
   },
   "outputs": [
    {
     "name": "stderr",
     "output_type": "stream",
     "text": [
      "\u001b[1m\u001b[34mINFO: Testing MyInterpolations\n",
      "\u001b[0m"
     ]
    },
    {
     "name": "stdout",
     "output_type": "stream",
     "text": [
      "\u001b[1m\u001b[37mend points: \u001b[0m\u001b[1m\u001b[31mError During Test\n",
      "\u001b[0m  Test threw an exception of type BoundsError\n",
      "  Expression: itp(x) == y\n",
      "  BoundsError: attempt to access 2-element Array{Int64,1} at index [3]\n",
      "   in (::MyInterpolations.LinearInterpolation)(::Int64) at /Users/ellen/.julia/v0.5/MyInterpolations/src/MyInterpolations.jl:15\n",
      "   in macro expansion; at /Users/ellen/.julia/v0.5/MyInterpolations/test/runtests.jl:19 [inlined]\n",
      "   in macro expansion; at ./test.jl:674 [inlined]\n",
      "   in macro expansion; at /Users/ellen/.julia/v0.5/MyInterpolations/test/runtests.jl:17 [inlined]\n",
      "   in macro expansion; at ./test.jl:674 [inlined]\n",
      "   in macro expansion; at /Users/ellen/.julia/v0.5/MyInterpolations/test/runtests.jl:7 [inlined]\n",
      "   in macro expansion; at ./test.jl:674 [inlined]\n",
      "   in anonymous at ./<missing>:?\n",
      "   in include_from_node1(::String) at ./loading.jl:488\n",
      "   in include_from_node1(::String) at /Users/ellen/Desktop/Julia-0.5.app/Contents/Resources/julia/lib/julia/sys.dylib:?\n",
      "   in process_options(::Base.JLOptions) at ./client.jl:265\n",
      "   in _start() at ./client.jl:321\n",
      "   in _start() at /Users/ellen/Desktop/Julia-0.5.app/Contents/Resources/julia/lib/julia/sys.dylib:?\n",
      "\u001b[1m\u001b[37marray inputs: \u001b[0m\u001b[1m\u001b[31mError During Test\n",
      "\u001b[0m  Test threw an exception of type BoundsError\n",
      "  Expression: isapprox(itp.(x),y)\n",
      "  BoundsError: attempt to access 2-element Array{Int64,1} at index [3]\n",
      "   in (::MyInterpolations.LinearInterpolation)(::Float64) at /Users/ellen/.julia/v0.5/MyInterpolations/src/MyInterpolations.jl:15\n",
      "   in macro expansion at ./broadcast.jl:192 [inlined]\n",
      "   in _broadcast!(::MyInterpolations.LinearInterpolation, ::Array{Float64,1}, ::Tuple{Tuple{Bool}}, ::Tuple{Tuple{Int64}}, ::Tuple{LinSpace{Float64}}, ::Type{Val{1}}, ::CartesianRange{CartesianIndex{1}}, ::CartesianIndex{1}, ::Int64) at ./broadcast.jl:179\n",
      "   in broadcast_t(::MyInterpolations.LinearInterpolation, ::Type{Any}, ::LinSpace{Float64}, ::Vararg{LinSpace{Float64},N}) at ./broadcast.jl:225\n",
      "   in broadcast(::MyInterpolations.LinearInterpolation, ::LinSpace{Float64}) at ./broadcast.jl:230\n",
      "   in macro expansion; at /Users/ellen/.julia/v0.5/MyInterpolations/test/runtests.jl:29 [inlined]\n",
      "   in macro expansion; at ./test.jl:674 [inlined]\n",
      "   in macro expansion; at /Users/ellen/.julia/v0.5/MyInterpolations/test/runtests.jl:23 [inlined]\n",
      "   in macro expansion; at ./test.jl:674 [inlined]\n",
      "   in macro expansion; at /Users/ellen/.julia/v0.5/MyInterpolations/test/runtests.jl:7 [inlined]\n",
      "   in macro expansion; at ./test.jl:674 [inlined]\n",
      "   in anonymous at ./<missing>:?\n",
      "   in include_from_node1(::String) at ./loading.jl:488\n",
      "   in include_from_node1(::String) at /Users/ellen/Desktop/Julia-0.5.app/Contents/Resources/julia/lib/julia/sys.dylib:?\n",
      "   in process_options(::Base.JLOptions) at ./client.jl:265\n",
      "   in _start() at ./client.jl:321\n",
      "   in _start() at /Users/ellen/Desktop/Julia-0.5.app/Contents/Resources/julia/lib/julia/sys.dylib:?\n",
      "\u001b[1m\u001b[37mend points: \u001b[0m\u001b[1m\u001b[31mError During Test\n",
      "\u001b[0m  Test threw an exception of type BoundsError\n",
      "  Expression: itp(x) == y\n",
      "  BoundsError: attempt to access 3-element Array{Float64,1} at index [4]\n",
      "   in (::MyInterpolations.LinearInterpolation)(::Int64) at /Users/ellen/.julia/v0.5/MyInterpolations/src/MyInterpolations.jl:15\n",
      "   in macro expansion; at /Users/ellen/.julia/v0.5/MyInterpolations/test/runtests.jl:46 [inlined]\n",
      "   in macro expansion; at ./test.jl:674 [inlined]\n",
      "   in macro expansion; at /Users/ellen/.julia/v0.5/MyInterpolations/test/runtests.jl:44 [inlined]\n",
      "   in macro expansion; at ./test.jl:674 [inlined]\n",
      "   in macro expansion; at /Users/ellen/.julia/v0.5/MyInterpolations/test/runtests.jl:34 [inlined]\n",
      "   in macro expansion; at ./test.jl:674 [inlined]\n",
      "   in anonymous at ./<missing>:?\n",
      "   in include_from_node1(::String) at ./loading.jl:488\n",
      "   in include_from_node1(::String) at /Users/ellen/Desktop/Julia-0.5.app/Contents/Resources/julia/lib/julia/sys.dylib:?\n",
      "   in process_options(::Base.JLOptions) at ./client.jl:265\n",
      "   in _start() at ./client.jl:321\n",
      "   in _start() at /Users/ellen/Desktop/Julia-0.5.app/Contents/Resources/julia/lib/julia/sys.dylib:?\n",
      "\u001b[1m\u001b[37marray inputs: \u001b[0m\u001b[1m\u001b[31mError During Test\n",
      "\u001b[0m  Test threw an exception of type BoundsError\n",
      "  Expression: isapprox(itp.(x),y)\n",
      "  BoundsError: attempt to access 3-element Array{Float64,1} at index [4]\n",
      "   in (::MyInterpolations.LinearInterpolation)(::Int64) at /Users/ellen/.julia/v0.5/MyInterpolations/src/MyInterpolations.jl:15\n",
      "   in macro expansion at ./broadcast.jl:192 [inlined]\n",
      "   in _broadcast!(::MyInterpolations.LinearInterpolation, ::Array{Float64,1}, ::Tuple{Tuple{Bool}}, ::Tuple{Tuple{Int64}}, ::Tuple{UnitRange{Int64}}, ::Type{Val{1}}, ::CartesianRange{CartesianIndex{1}}, ::CartesianIndex{1}, ::Int64) at ./broadcast.jl:179\n",
      "   in broadcast_t(::MyInterpolations.LinearInterpolation, ::Type{Any}, ::UnitRange{Int64}, ::Vararg{UnitRange{Int64},N}) at ./broadcast.jl:225\n",
      "   in broadcast(::MyInterpolations.LinearInterpolation, ::UnitRange{Int64}) at ./broadcast.jl:230\n",
      "   in macro expansion; at /Users/ellen/.julia/v0.5/MyInterpolations/test/runtests.jl:59 [inlined]\n",
      "   in macro expansion; at ./test.jl:674 [inlined]\n",
      "   in macro expansion; at /Users/ellen/.julia/v0.5/MyInterpolations/test/runtests.jl:50 [inlined]\n",
      "   in macro expansion; at ./test.jl:674 [inlined]\n",
      "   in macro expansion; at /Users/ellen/.julia/v0.5/MyInterpolations/test/runtests.jl:34 [inlined]\n",
      "   in macro expansion; at ./test.jl:674 [inlined]\n",
      "   in anonymous at ./<missing>:?\n",
      "   in include_from_node1(::String) at ./loading.jl:488\n",
      "   in include_from_node1(::String) at /Users/ellen/Desktop/Julia-0.5.app/Contents/Resources/julia/lib/julia/sys.dylib:?\n",
      "   in process_options(::Base.JLOptions) at ./client.jl:265\n",
      "   in _start() at ./client.jl:321\n",
      "   in _start() at /Users/ellen/Desktop/Julia-0.5.app/Contents/Resources/julia/lib/julia/sys.dylib:?\n",
      "\u001b[1m\u001b[37marray inputs: \u001b[0m\u001b[1m\u001b[31mError During Test\n",
      "\u001b[0m  Test threw an exception of type BoundsError\n",
      "  Expression: isapprox(itp.(x),y)\n",
      "  BoundsError: attempt to access 3-element Array{Float64,1} at index [4]\n",
      "   in (::MyInterpolations.LinearInterpolation)(::Int64) at /Users/ellen/.julia/v0.5/MyInterpolations/src/MyInterpolations.jl:15\n",
      "   in macro expansion at ./broadcast.jl:192 [inlined]\n",
      "   in _broadcast!(::MyInterpolations.LinearInterpolation, ::Array{Float64,1}, ::Tuple{Tuple{Bool}}, ::Tuple{Tuple{Int64}}, ::Tuple{StepRange{Int64,Int64}}, ::Type{Val{1}}, ::CartesianRange{CartesianIndex{1}}, ::CartesianIndex{1}, ::Int64) at ./broadcast.jl:179\n",
      "   in broadcast_t(::MyInterpolations.LinearInterpolation, ::Type{Any}, ::StepRange{Int64,Int64}, ::Vararg{StepRange{Int64,Int64},N}) at ./broadcast.jl:225\n",
      "   in broadcast(::MyInterpolations.LinearInterpolation, ::StepRange{Int64,Int64}) at ./broadcast.jl:230\n",
      "   in macro expansion; at /Users/ellen/.julia/v0.5/MyInterpolations/test/runtests.jl:59 [inlined]\n",
      "   in macro expansion; at ./test.jl:674 [inlined]\n",
      "   in macro expansion; at /Users/ellen/.julia/v0.5/MyInterpolations/test/runtests.jl:50 [inlined]\n",
      "   in macro expansion; at ./test.jl:674 [inlined]\n",
      "   in macro expansion; at /Users/ellen/.julia/v0.5/MyInterpolations/test/runtests.jl:34 [inlined]\n",
      "   in macro expansion; at ./test.jl:674 [inlined]\n",
      "   in anonymous at ./<missing>:?\n",
      "   in include_from_node1(::String) at ./loading.jl:488\n",
      "   in include_from_node1(::String) at /Users/ellen/Desktop/Julia-0.5.app/Contents/Resources/julia/lib/julia/sys.dylib:?\n",
      "   in process_options(::Base.JLOptions) at ./client.jl:265\n",
      "   in _start() at ./client.jl:321\n",
      "   in _start() at /Users/ellen/Desktop/Julia-0.5.app/Contents/Resources/julia/lib/julia/sys.dylib:?\n",
      "\u001b[1m\u001b[37mTest Summary:                | \u001b[0m\u001b[1m\u001b[32mPass  \u001b[0m\u001b[1m\u001b[31mError  \u001b[0m\u001b[1m\u001b[34mTotal\u001b[0m\n",
      "  Testing linear interporation | \u001b[1m\u001b[32m   8  \u001b[0m\u001b[1m\u001b[31m    5  \u001b[0m\u001b[1m\u001b[34m   13\u001b[0m\n",
      "  case with two grid points  | \u001b[1m\u001b[32m   3  \u001b[0m\u001b[1m\u001b[31m    2  \u001b[0m\u001b[1m\u001b[34m    5\u001b[0m\n",
      "  scalar input               | \u001b[1m\u001b[32m   1  \u001b[0m       \u001b[1m\u001b[34m    1\u001b[0m\n",
      "  end points                 | \u001b[1m\u001b[32m   1  \u001b[0m\u001b[1m\u001b[31m    1  \u001b[0m\u001b[1m\u001b[34m    2\u001b[0m\n",
      "  array inputs               | \u001b[1m\u001b[32m   1  \u001b[0m\u001b[1m\u001b[31m    1  \u001b[0m\u001b[1m\u001b[34m    2\u001b[0m\n",
      "  general case               | \u001b[1m\u001b[32m   5  \u001b[0m\u001b[1m\u001b[31m    3  \u001b[0m\u001b[1m\u001b[34m    8\u001b[0m\n",
      "  scalar input               | \u001b[1m\u001b[32m   1  \u001b[0m       \u001b[1m\u001b[34m    1\u001b[0m\n",
      "  end points                 | \u001b[1m\u001b[32m   1  \u001b[0m\u001b[1m\u001b[31m    1  \u001b[0m\u001b[1m\u001b[34m    2\u001b[0m\n",
      "  array inputs               | \u001b[1m\u001b[32m   3  \u001b[0m\u001b[1m\u001b[31m    2  \u001b[0m\u001b[1m\u001b[34m    5\u001b[0m\n"
     ]
    },
    {
     "name": "stderr",
     "output_type": "stream",
     "text": [
      "\u001b[1m\u001b[31mERROR: LoadError: Some tests did not pass: 8 passed, 0 failed, 5 errored, 0 broken.\n",
      " in finish(::Base.Test.DefaultTestSet) at ./test.jl:498\n",
      " in macro expansion; at ./test.jl:681 [inlined]\n",
      " in anonymous at ./<missing>:?\n",
      " in include_from_node1(::String) at ./loading.jl:488\n",
      " in include_from_node1(::String) at /Users/ellen/Desktop/Julia-0.5.app/Contents/Resources/julia/lib/julia/sys.dylib:?\n",
      " in process_options(::Base.JLOptions) at ./client.jl:265\n",
      " in _start() at ./client.jl:321\n",
      " in _start() at /Users/ellen/Desktop/Julia-0.5.app/Contents/Resources/julia/lib/julia/sys.dylib:?\n",
      "while loading /Users/ellen/.julia/v0.5/MyInterpolations/test/runtests.jl, in expression starting on line 6\n",
      "\u001b[0m\u001b[1m\u001b[31m==========================[ ERROR: MyInterpolations ]===========================\u001b[0m\n",
      "\n",
      "\u001b[1m\u001b[31mfailed process: Process(`/Users/ellen/Desktop/Julia-0.5.app/Contents/Resources/julia/bin/julia -Ccore2 -J/Users/ellen/Desktop/Julia-0.5.app/Contents/Resources/julia/lib/julia/sys.dylib --compile=yes --depwarn=yes --check-bounds=yes --code-coverage=none --color=yes --compilecache=yes /Users/ellen/.julia/v0.5/MyInterpolations/test/runtests.jl`, ProcessExited(1)) [1]\u001b[0m\n",
      "\n",
      "\u001b[1m\u001b[31m================================================================================\u001b[0m\n"
     ]
    },
    {
     "ename": "LoadError",
     "evalue": "MyInterpolations had test errors",
     "output_type": "error",
     "traceback": [
      "MyInterpolations had test errors",
      "",
      " in #test#61(::Bool, ::Function, ::Array{AbstractString,1}) at ./pkg/entry.jl:749",
      " in (::Base.Pkg.Entry.#kw##test)(::Array{Any,1}, ::Base.Pkg.Entry.#test, ::Array{AbstractString,1}) at ./<missing>:0",
      " in (::Base.Pkg.Dir.##2#3{Array{Any,1},Base.Pkg.Entry.#test,Tuple{Array{AbstractString,1}}})() at ./pkg/dir.jl:31",
      " in cd(::Base.Pkg.Dir.##2#3{Array{Any,1},Base.Pkg.Entry.#test,Tuple{Array{AbstractString,1}}}, ::String) at ./file.jl:59",
      " in #cd#1(::Array{Any,1}, ::Function, ::Function, ::Array{AbstractString,1}, ::Vararg{Array{AbstractString,1},N}) at ./pkg/dir.jl:31",
      " in (::Base.Pkg.Dir.#kw##cd)(::Array{Any,1}, ::Base.Pkg.Dir.#cd, ::Function, ::Array{AbstractString,1}, ::Vararg{Array{AbstractString,1},N}) at ./<missing>:0",
      " in #test#3(::Bool, ::Function, ::String, ::Vararg{String,N}) at ./pkg/pkg.jl:258",
      " in test(::String, ::Vararg{String,N}) at ./pkg/pkg.jl:258"
     ]
    }
   ],
   "source": [
    "Pkg.test(\"MyInterpolations\")"
   ]
  },
  {
   "cell_type": "code",
   "execution_count": null,
   "metadata": {
    "collapsed": true
   },
   "outputs": [],
   "source": []
  }
 ],
 "metadata": {
  "kernelspec": {
   "display_name": "Julia 0.5.1",
   "language": "julia",
   "name": "julia-0.5"
  },
  "language_info": {
   "file_extension": ".jl",
   "mimetype": "application/julia",
   "name": "julia",
   "version": "0.5.1"
  }
 },
 "nbformat": 4,
 "nbformat_minor": 2
}
