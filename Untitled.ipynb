{
 "cells": [
  {
   "cell_type": "code",
   "execution_count": 2,
   "metadata": {
    "collapsed": false
   },
   "outputs": [
    {
     "ename": "LoadError",
     "evalue": "LoadError: syntax: misplaced return statement\nwhile loading In[2], in expression starting on line 10",
     "output_type": "error",
     "traceback": [
      "LoadError: syntax: misplaced return statement\nwhile loading In[2], in expression starting on line 10",
      ""
     ]
    }
   ],
   "source": [
    "function g(x)\n",
    "    grid = [2, 3]\n",
    "    vals = [4, 6]\n",
    "    \n",
    "    g(x)= -3/2x+6\n",
    "    \n",
    "    interpolated_value = \n",
    "    \n",
    "    return interpolated_value\n",
    "end"
   ]
  },
  {
   "cell_type": "code",
   "execution_count": null,
   "metadata": {
    "collapsed": true
   },
   "outputs": [],
   "source": []
  }
 ],
 "metadata": {
  "kernelspec": {
   "display_name": "Julia 0.4.5",
   "language": "julia",
   "name": "julia-0.4"
  },
  "language_info": {
   "file_extension": ".jl",
   "mimetype": "application/julia",
   "name": "julia",
   "version": "0.4.5"
  }
 },
 "nbformat": 4,
 "nbformat_minor": 0
}
