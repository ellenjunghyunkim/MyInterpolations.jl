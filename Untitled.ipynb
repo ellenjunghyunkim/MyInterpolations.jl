{
 "cells": [
  {
   "cell_type": "code",
   "execution_count": 1,
   "metadata": {
    "collapsed": false
   },
   "outputs": [
    {
     "data": {
      "text/plain": [
       "lin_interp (generic function with 1 method)"
      ]
     },
     "execution_count": 1,
     "metadata": {},
     "output_type": "execute_result"
    }
   ],
   "source": [
    "function lin_interp(grid, vals)\n",
    "    function func(x)\n",
    "        index_1 = searchsortedfirst(grid, x)\n",
    "        index_2 = searchsortedlast(grid, x)\n",
    "        x_1 = grid[index_1]\n",
    "        x_2 = grid[index_2]\n",
    "        y_1 = vals[index_1]\n",
    "        y_2 = vals[index_2]\n",
    "        \n",
    "        y = ((y_2- y_1)/(x_2 - x_1))*(x - x_1) + y_1\n",
    "        return y\n",
    "    end\n",
    "    return func\n",
    "end"
   ]
  },
  {
   "cell_type": "code",
   "execution_count": 2,
   "metadata": {
    "collapsed": false
   },
   "outputs": [
    {
     "data": {
      "text/plain": [
       "1.5"
      ]
     },
     "execution_count": 2,
     "metadata": {},
     "output_type": "execute_result"
    }
   ],
   "source": [
    "grid = [1, 2]\n",
    "vals = [2, 0]\n",
    "f = lin_interp(grid, vals)\n",
    "\n",
    "f(1.25)"
   ]
  },
  {
   "cell_type": "code",
   "execution_count": 3,
   "metadata": {
    "collapsed": false
   },
   "outputs": [
    {
     "name": "stderr",
     "output_type": "stream",
     "text": [
      "WARNING: Method definition lin_interp(Any, Any) in module Main at In[1]:2 overwritten at In[3]:2.\n"
     ]
    },
    {
     "data": {
      "text/plain": [
       "lin_interp (generic function with 1 method)"
      ]
     },
     "execution_count": 3,
     "metadata": {},
     "output_type": "execute_result"
    }
   ],
   "source": [
    "function lin_interp(grid, vals)\n",
    "    function func(x)\n",
    "        if x <= grid[1]\n",
    "            index_1 = 1\n",
    "            index_2 = 2\n",
    "        elseif x >= grid[length(grid)]\n",
    "            index_1 = length(grid) - 1\n",
    "            index_2 = length(grid)\n",
    "        else\n",
    "            index_1 = searchsortedfirst(grid, x)\n",
    "            index_2 = searchsortedlast(grid, x)\n",
    "        end\n",
    "        x_1 = grid[index_1]\n",
    "        x_2 = grid[index_2]\n",
    "        y_1 = vals[index_1]\n",
    "        y_2 = vals[index_2]\n",
    "        \n",
    "        y = ((y_2- y_1)/(x_2 - x_1))*(x - x_1) + y_1\n",
    "        return y\n",
    "    end\n",
    "    return func\n",
    "end"
   ]
  },
  {
   "cell_type": "code",
   "execution_count": 4,
   "metadata": {
    "collapsed": false
   },
   "outputs": [
    {
     "name": "stdout",
     "output_type": "stream",
     "text": [
      "-196.0\n",
      "0.0\n"
     ]
    }
   ],
   "source": [
    "grid = [1, 2]\n",
    "vals = [2, 0]\n",
    "f = lin_interp(grid, vals)\n",
    "\n",
    "println(f(100))\n",
    "println(f(2))\n"
   ]
  },
  {
   "cell_type": "code",
   "execution_count": 5,
   "metadata": {
    "collapsed": false
   },
   "outputs": [
    {
     "name": "stderr",
     "output_type": "stream",
     "text": [
      "WARNING: Method definition lin_interp(Any, Any) in module Main at In[3]:2 overwritten at In[5]:2.\n"
     ]
    },
    {
     "data": {
      "text/plain": [
       "lin_interp (generic function with 1 method)"
      ]
     },
     "execution_count": 5,
     "metadata": {},
     "output_type": "execute_result"
    }
   ],
   "source": [
    "function lin_interp(grid, vals)\n",
    "    function func(x::Real)\n",
    "        if x <= grid[1]\n",
    "            index_1 = 1\n",
    "            index_2 = 2\n",
    "        elseif x >= grid[length(grid)]\n",
    "            index_1 = length(grid) - 1\n",
    "            index_2 = length(grid)\n",
    "        else\n",
    "            index_1 = searchsortedfirst(grid, x)\n",
    "            index_2 = searchsortedlast(grid, x)\n",
    "        end\n",
    "        x_1 = grid[index_1]\n",
    "        x_2 = grid[index_2]\n",
    "        y_1 = vals[index_1]\n",
    "        y_2 = vals[index_2]\n",
    "        \n",
    "        y = ((y_2- y_1)/(x_2 - x_1))*(x - x_1) + y_1\n",
    "        return y\n",
    "    end\n",
    "    \n",
    "    function func{T<:Real}(x::AbstractVector{T})\n",
    "        y = zeros(length(x))\n",
    "        for i in 1:length(x)\n",
    "            y[i] = func(x[i])\n",
    "        end\n",
    "        return y\n",
    "    end\n",
    "    \n",
    "    return func\n",
    "end"
   ]
  },
  {
   "cell_type": "code",
   "execution_count": 6,
   "metadata": {
    "collapsed": false
   },
   "outputs": [
    {
     "name": "stdout",
     "output_type": "stream",
     "text": [
      "1.5\n",
      "-196.0\n",
      "[1.5,-196.0]\n",
      "[1.5,1.0,0.2,0.0,-196.0]\n"
     ]
    }
   ],
   "source": [
    "grid = [1, 2]\n",
    "vals = [2, 0]\n",
    "f = lin_interp(grid, vals)\n",
    "\n",
    "println(f(1.25))\n",
    "println(f(100))\n",
    "println(f([1.25, 100]))\n",
    "println(f([1.25, 1.5, 1.9, 2.00, 100]))"
   ]
  },
  {
   "cell_type": "code",
   "execution_count": null,
   "metadata": {
    "collapsed": true
   },
   "outputs": [],
   "source": []
  }
 ],
 "metadata": {
  "kernelspec": {
   "display_name": "Julia 0.5.1",
   "language": "julia",
   "name": "julia-0.5"
  },
  "language_info": {
   "file_extension": ".jl",
   "mimetype": "application/julia",
   "name": "julia",
   "version": "0.5.1"
  }
 },
 "nbformat": 4,
 "nbformat_minor": 2
}
