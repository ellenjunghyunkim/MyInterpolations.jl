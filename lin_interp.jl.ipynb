{
 "cells": [
  {
   "cell_type": "code",
   "execution_count": 15,
   "metadata": {
    "collapsed": false
   },
   "outputs": [
    {
     "data": {
      "text/plain": [
       "g (generic function with 1 method)"
      ]
     },
     "execution_count": 15,
     "metadata": {},
     "output_type": "execute_result"
    }
   ],
   "source": [
    "function g(x)\n",
    "    grid = [2, 3]\n",
    "    vals = [4, 6]\n",
    "    interpolated_value = (vals[2]-vals[1])/(grid[2]-grid[1])*(x-grid[1])+vals[1]\n",
    "    \n",
    "    return interpolated_value\n",
    "end"
   ]
  },
  {
   "cell_type": "code",
   "execution_count": null,
   "metadata": {
    "collapsed": true
   },
   "outputs": [],
   "source": []
  },
  {
   "cell_type": "code",
   "execution_count": 16,
   "metadata": {
    "collapsed": false
   },
   "outputs": [
    {
     "name": "stdout",
     "output_type": "stream",
     "text": [
      "5.0"
     ]
    }
   ],
   "source": [
    "print(g(2.5))"
   ]
  },
  {
   "cell_type": "code",
   "execution_count": 17,
   "metadata": {
    "collapsed": false
   },
   "outputs": [
    {
     "name": "stdout",
     "output_type": "stream",
     "text": [
      "[-2,1,4,6,7,10]\n"
     ]
    },
    {
     "data": {
      "text/plain": [
       "3"
      ]
     },
     "execution_count": 17,
     "metadata": {},
     "output_type": "execute_result"
    }
   ],
   "source": [
    "grid = [-2, 1, 4, 6, 7, 10]\n",
    "println(grid)\n",
    "\n",
    "searchsortedlast(grid, 5.5)"
   ]
  },
  {
   "cell_type": "code",
   "execution_count": 21,
   "metadata": {
    "collapsed": false
   },
   "outputs": [
    {
     "data": {
      "text/plain": [
       "h (generic function with 1 method)"
      ]
     },
     "execution_count": 21,
     "metadata": {},
     "output_type": "execute_result"
    }
   ],
   "source": [
    "function h(grid, vals, x)\n",
    "    i = searchsortedlast(grid, x)\n",
    "    \n",
    "    if i == 0 || i == length(grid)\n",
    "        return 0\n",
    "    end\n",
    "    \n",
    "    interpolated_value = (vals[i+1]-vals[i])/(grid[i+1]-grid[i])*(x-grid[i])+vals[i]\n",
    "    \n",
    "    return interpolated_value\n",
    "end"
   ]
  },
  {
   "cell_type": "code",
   "execution_count": 22,
   "metadata": {
    "collapsed": false
   },
   "outputs": [
    {
     "name": "stdout",
     "output_type": "stream",
     "text": [
      "4.5\n"
     ]
    }
   ],
   "source": [
    "grid = [0, 2, 4, 6, 8, 10]\n",
    "vals = [1, 4, 5, 8, 9, 11]\n",
    "println(h(grid, vals, 3)) "
   ]
  },
  {
   "cell_type": "code",
   "execution_count": 24,
   "metadata": {
    "collapsed": false
   },
   "outputs": [
    {
     "data": {
      "text/plain": [
       "ellenpola (generic function with 1 method)"
      ]
     },
     "execution_count": 24,
     "metadata": {},
     "output_type": "execute_result"
    }
   ],
   "source": [
    "function ellenpola(grid, vals)\n",
    "    function func(x)\n",
    "        i = searchsortedlast(grid, x)\n",
    "    \n",
    "        if i == 0 || i == length(grid)\n",
    "            return 0\n",
    "        end\n",
    "\n",
    "        interpolated_value = (vals[i+1]-vals[i])/(grid[i+1]-grid[i])*(x-grid[i])+vals[i]\n",
    "\n",
    "        return interpolated_value\n",
    "\n",
    "    end\n",
    "\n",
    "    return func\n",
    "end"
   ]
  },
  {
   "cell_type": "code",
   "execution_count": 25,
   "metadata": {
    "collapsed": false
   },
   "outputs": [
    {
     "data": {
      "text/plain": [
       "4.5"
      ]
     },
     "execution_count": 25,
     "metadata": {},
     "output_type": "execute_result"
    }
   ],
   "source": [
    "grid = [0, 2, 4, 6, 8, 10]\n",
    "vals = [1, 4, 5, 8, 9, 11]\n",
    "my_func = ellenpola(grid,vals)\n",
    "my_func(3)\n"
   ]
  },
  {
   "cell_type": "code",
   "execution_count": 26,
   "metadata": {
    "collapsed": false
   },
   "outputs": [
    {
     "data": {
      "text/plain": [
       "8.5"
      ]
     },
     "execution_count": 26,
     "metadata": {},
     "output_type": "execute_result"
    }
   ],
   "source": [
    "my_func(7)"
   ]
  },
  {
   "cell_type": "code",
   "execution_count": 21,
   "metadata": {
    "collapsed": false
   },
   "outputs": [
    {
     "data": {
      "text/plain": [
       "ellenpola (generic function with 1 method)"
      ]
     },
     "execution_count": 21,
     "metadata": {},
     "output_type": "execute_result"
    }
   ],
   "source": [
    "function ellenpola(grid,vals) \n",
    "    function func(x)\n",
    "        i = searchsortedlast(grid, x)\n",
    "        if i == 0 || i == length(grid)\n",
    "            return AbstractVector\n",
    "        else\n",
    "            interpolated_value =  (vals[i+1]-vals[i])/(grid[i+1]-grid[i])*(x-grid[i])+vals[i]\n",
    "            return interpolated_value\n",
    "        end\n",
    "    return func\n",
    "    end\n",
    "end"
   ]
  },
  {
   "cell_type": "code",
   "execution_count": 22,
   "metadata": {
    "collapsed": false
   },
   "outputs": [
    {
     "name": "stdout",
     "output_type": "stream",
     "text": [
      "2.5\n",
      "8.5\n",
      "AbstractArray{T,1}\n"
     ]
    }
   ],
   "source": [
    "grid = [0, 2, 4, 6, 8, 10]\n",
    "vals = [1, 4, 5, 8, 9, 11]\n",
    "my_func = ellenpola(grid,vals)\n",
    "\n",
    "println(my_func(1))\n",
    "println(my_func(7))\n",
    "println(my_func(11))"
   ]
  },
  {
   "cell_type": "code",
   "execution_count": 2,
   "metadata": {
    "collapsed": false
   },
   "outputs": [
    {
     "data": {
      "text/plain": [
       "ellenpola (generic function with 1 method)"
      ]
     },
     "execution_count": 2,
     "metadata": {},
     "output_type": "execute_result"
    }
   ],
   "source": [
    "function ellenpola(grid, vals)\n",
    "    function func(x)\n",
    "    i = searchsortedlast(grid, x)\n",
    "    if i == 0 || i == length(grid)\n",
    "        return 0\n",
    "    end\n",
    "    interpolated_value = (vals[i+1]-vals[i])/(grid[i+1]-grid[i])*(x-grid[i])+vals[i]\n",
    "    return interpolated_value\n",
    "  end\n",
    "\n",
    "    \n",
    "    function func{T<:Real}(x::AbstractVector{T})\n",
    "    n = length(x)\n",
    "    out = Array(Float64, n)\n",
    "\n",
    "    for i in 1:n\n",
    "        i = searchsortedlast(grid, x)\n",
    "        if i == 0 || i == length(grid)\n",
    "            interpolated_value = 0\n",
    "        else\n",
    "            interpolated_value = (vals[i+1]-vals[i])/(grid[i+1]-grid[i])*(x-grid[i])+vals[i]\n",
    "        end\n",
    "        out[i] = interpolated_value\n",
    "    end\n",
    "\n",
    "    return out\n",
    "   end\n",
    "end"
   ]
  },
  {
   "cell_type": "code",
   "execution_count": 10,
   "metadata": {
    "collapsed": false
   },
   "outputs": [
    {
     "name": "stderr",
     "output_type": "stream",
     "text": [
      "WARNING: replacing module MyLinInterp\n"
     ]
    },
    {
     "data": {
      "text/plain": [
       "MyLinInterp"
      ]
     },
     "execution_count": 10,
     "metadata": {},
     "output_type": "execute_result"
    }
   ],
   "source": [
    "module MyLinInterp\n",
    "\n",
    "  export LinearInterpolation\n",
    "\n",
    "  immutable LinearInterpolation \n",
    "    grid::Array\n",
    "    vals::Array\n",
    "　end\n",
    "\n",
    "　function call(a::LinearInterpolation, x::Real)\n",
    "    i = searchsortedlast(grid, x)\n",
    "    if i == 0 || i == length(grid)\n",
    "        return 0\n",
    " 　　end\n",
    "    interpolated_value = (vals[i+1]-vals[i])/(grid[i+1]-grid[i])*(x-grid[i])+vals[i]\n",
    "    return interpolated_value\n",
    "　　　\n",
    "　end\n",
    "\n",
    "　function call{T<:Real}(a::LinearInterpolation, x::AbstractVector{T})\n",
    "    n = length(x)\n",
    "    out = Array(Float64, n)\n",
    "\n",
    "    for i in 1:n\n",
    "        i = searchsortedlast(grid, x)\n",
    "        if i == 0 || i == length(grid)\n",
    "            interpolated_value = 0\n",
    "        else\n",
    "            interpolated_value = (vals[i+1]-vals[i])/(grid[i+1]-grid[i])*(x-grid[i])+vals[i]\n",
    "        end\n",
    "        out[i] = interpolated_value\n",
    "    end\n",
    "\n",
    "    return out\n",
    "　end\n",
    "　　\n",
    "\n",
    "end"
   ]
  },
  {
   "cell_type": "code",
   "execution_count": 5,
   "metadata": {
    "collapsed": false
   },
   "outputs": [
    {
     "name": "stderr",
     "output_type": "stream",
     "text": [
      "INFO: Testing MyInterpolations\n",
      "ERROR: LoadError: UndefVarError: my_lin_interp not defined\n",
      " in include at /Applications/Julia-0.4.5.app/Contents/Resources/julia/lib/julia/sys.dylib\n",
      " in include_from_node1 at /Applications/Julia-0.4.5.app/Contents/Resources/julia/lib/julia/sys.dylib\n",
      " in process_options at /Applications/Julia-0.4.5.app/Contents/Resources/julia/lib/julia/sys.dylib\n",
      " in _start at /Applications/Julia-0.4.5.app/Contents/Resources/julia/lib/julia/sys.dylib\n",
      "while loading /Users/ellen/.julia/v0.4/MyInterpolations/test/runtests.jl, in expression starting on line 4\n",
      "==========================[ ERROR: MyInterpolations ]===========================\n",
      "\n",
      "failed process: Process(`/Applications/Julia-0.4.5.app/Contents/Resources/julia/bin/julia --check-bounds=yes --code-coverage=none --color=no /Users/ellen/.julia/v0.4/MyInterpolations/test/runtests.jl`, ProcessExited(1)) [1]\n",
      "\n",
      "================================================================================\n"
     ]
    },
    {
     "ename": "LoadError",
     "evalue": "LoadError: MyInterpolations had test errors\nwhile loading In[5], in expression starting on line 1",
     "output_type": "error",
     "traceback": [
      "LoadError: MyInterpolations had test errors\nwhile loading In[5], in expression starting on line 1",
      "",
      " in error at /Applications/Julia-0.4.5.app/Contents/Resources/julia/lib/julia/sys.dylib",
      " in test at pkg/entry.jl:803",
      " in anonymous at pkg/dir.jl:31",
      " in cd at file.jl:22",
      " in cd at pkg/dir.jl:31",
      " in test at pkg.jl:71"
     ]
    }
   ],
   "source": [
    "Pkg.test(\"MyInterpolations\")"
   ]
  },
  {
   "cell_type": "code",
   "execution_count": null,
   "metadata": {
    "collapsed": true
   },
   "outputs": [],
   "source": []
  },
  {
   "cell_type": "code",
   "execution_count": 19,
   "metadata": {
    "collapsed": false
   },
   "outputs": [
    {
     "data": {
      "text/plain": [
       "f (generic function with 1 method)"
      ]
     },
     "execution_count": 19,
     "metadata": {},
     "output_type": "execute_result"
    }
   ],
   "source": [
    "function f(s::AbstractString)\n",
    "    return s * \"s\"\n",
    "end"
   ]
  },
  {
   "cell_type": "code",
   "execution_count": 20,
   "metadata": {
    "collapsed": false
   },
   "outputs": [
    {
     "data": {
      "text/plain": [
       "\"apples\""
      ]
     },
     "execution_count": 20,
     "metadata": {},
     "output_type": "execute_result"
    }
   ],
   "source": [
    "f(\"apple\")"
   ]
  },
  {
   "cell_type": "code",
   "execution_count": 8,
   "metadata": {
    "collapsed": false
   },
   "outputs": [
    {
     "ename": "LoadError",
     "evalue": "LoadError: MethodError: `add` has no method matching add(::Module)\nwhile loading In[8], in expression starting on line 1",
     "output_type": "error",
     "traceback": [
      "LoadError: MethodError: `add` has no method matching add(::Module)\nwhile loading In[8], in expression starting on line 1",
      ""
     ]
    }
   ],
   "source": [
    "Pkg.add(MyInterpolations)"
   ]
  },
  {
   "cell_type": "code",
   "execution_count": 9,
   "metadata": {
    "collapsed": false
   },
   "outputs": [
    {
     "name": "stderr",
     "output_type": "stream",
     "text": [
      "INFO: Cloning MyInterpolations from https://github.com/ellenjunghyunkim/MyInterpolations.jl\n"
     ]
    },
    {
     "ename": "LoadError",
     "evalue": "LoadError: MyInterpolations already exists\nwhile loading In[9], in expression starting on line 1",
     "output_type": "error",
     "traceback": [
      "LoadError: MyInterpolations already exists\nwhile loading In[9], in expression starting on line 1",
      ""
     ]
    }
   ],
   "source": [
    "Pkg.clone(\"https://github.com/ellenjunghyunkim/MyInterpolations.jl\")"
   ]
  },
  {
   "cell_type": "code",
   "execution_count": 10,
   "metadata": {
    "collapsed": false
   },
   "outputs": [],
   "source": [
    "using MyInterpolations"
   ]
  },
  {
   "cell_type": "code",
   "execution_count": 11,
   "metadata": {
    "collapsed": false
   },
   "outputs": [
    {
     "name": "stderr",
     "output_type": "stream",
     "text": [
      "INFO: Checking out MyInterpolations master...\n",
      "INFO: Pulling MyInterpolations latest master...\n",
      "WARNING: julia is fixed at 0.4.5 conflicting with requirement for MyInterpolations: [0.5.0,∞)\n",
      "INFO: No packages to install, update or remove\n"
     ]
    }
   ],
   "source": [
    "Pkg.checkout(\"MyInterpolations\", \"master\")"
   ]
  },
  {
   "cell_type": "code",
   "execution_count": 2,
   "metadata": {
    "collapsed": false
   },
   "outputs": [],
   "source": [
    "using MyInterpolations"
   ]
  },
  {
   "cell_type": "code",
   "execution_count": 4,
   "metadata": {
    "collapsed": false
   },
   "outputs": [
    {
     "data": {
      "text/plain": [
       "MyInterpolations"
      ]
     },
     "execution_count": 4,
     "metadata": {},
     "output_type": "execute_result"
    }
   ],
   "source": [
    "const _lin_interp = MyInterpolations"
   ]
  },
  {
   "cell_type": "code",
   "execution_count": 12,
   "metadata": {
    "collapsed": false
   },
   "outputs": [
    {
     "name": "stderr",
     "output_type": "stream",
     "text": [
      "INFO: Testing MyInterpolations\n",
      "ERROR: LoadError: UndefVarError: my_lin_interp not defined\n",
      " in include at /Applications/Julia-0.4.5.app/Contents/Resources/julia/lib/julia/sys.dylib\n",
      " in include_from_node1 at /Applications/Julia-0.4.5.app/Contents/Resources/julia/lib/julia/sys.dylib\n",
      " in process_options at /Applications/Julia-0.4.5.app/Contents/Resources/julia/lib/julia/sys.dylib\n",
      " in _start at /Applications/Julia-0.4.5.app/Contents/Resources/julia/lib/julia/sys.dylib\n",
      "while loading /Users/ellen/.julia/v0.4/MyInterpolations/test/runtests.jl, in expression starting on line 4\n",
      "==========================[ ERROR: MyInterpolations ]===========================\n",
      "\n",
      "failed process: Process(`/Applications/Julia-0.4.5.app/Contents/Resources/julia/bin/julia --check-bounds=yes --code-coverage=none --color=no /Users/ellen/.julia/v0.4/MyInterpolations/test/runtests.jl`, ProcessExited(1)) [1]\n",
      "\n",
      "================================================================================\n"
     ]
    },
    {
     "ename": "LoadError",
     "evalue": "LoadError: MyInterpolations had test errors\nwhile loading In[12], in expression starting on line 1",
     "output_type": "error",
     "traceback": [
      "LoadError: MyInterpolations had test errors\nwhile loading In[12], in expression starting on line 1",
      "",
      " in error at /Applications/Julia-0.4.5.app/Contents/Resources/julia/lib/julia/sys.dylib",
      " in test at pkg/entry.jl:803",
      " in anonymous at pkg/dir.jl:31",
      " in cd at file.jl:22",
      " in cd at pkg/dir.jl:31",
      " in test at pkg.jl:71"
     ]
    }
   ],
   "source": [
    "Pkg.test(\"MyInterpolations\")"
   ]
  },
  {
   "cell_type": "code",
   "execution_count": null,
   "metadata": {
    "collapsed": true
   },
   "outputs": [],
   "source": []
  }
 ],
 "metadata": {
  "kernelspec": {
   "display_name": "Julia 0.4.5",
   "language": "julia",
   "name": "julia-0.4"
  },
  "language_info": {
   "file_extension": ".jl",
   "mimetype": "application/julia",
   "name": "julia",
   "version": "0.4.5"
  }
 },
 "nbformat": 4,
 "nbformat_minor": 0
}
