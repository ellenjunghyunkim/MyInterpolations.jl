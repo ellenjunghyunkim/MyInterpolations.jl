{
 "cells": [
  {
   "cell_type": "code",
   "execution_count": 15,
   "metadata": {
    "collapsed": false
   },
   "outputs": [
    {
     "data": {
      "text/plain": [
       "g (generic function with 1 method)"
      ]
     },
     "execution_count": 15,
     "metadata": {},
     "output_type": "execute_result"
    }
   ],
   "source": [
    "function g(x)\n",
    "    grid = [2, 3]\n",
    "    vals = [4, 6]\n",
    "    interpolated_value = (vals[2]-vals[1])/(grid[2]-grid[1])*(x-grid[1])+vals[1]\n",
    "    \n",
    "    return interpolated_value\n",
    "end"
   ]
  },
  {
   "cell_type": "code",
   "execution_count": null,
   "metadata": {
    "collapsed": true
   },
   "outputs": [],
   "source": []
  },
  {
   "cell_type": "code",
   "execution_count": 16,
   "metadata": {
    "collapsed": false
   },
   "outputs": [
    {
     "name": "stdout",
     "output_type": "stream",
     "text": [
      "5.0"
     ]
    }
   ],
   "source": [
    "print(g(2.5))"
   ]
  },
  {
   "cell_type": "code",
   "execution_count": 17,
   "metadata": {
    "collapsed": false
   },
   "outputs": [
    {
     "name": "stdout",
     "output_type": "stream",
     "text": [
      "[-2,1,4,6,7,10]\n"
     ]
    },
    {
     "data": {
      "text/plain": [
       "3"
      ]
     },
     "execution_count": 17,
     "metadata": {},
     "output_type": "execute_result"
    }
   ],
   "source": [
    "grid = [-2, 1, 4, 6, 7, 10]\n",
    "println(grid)\n",
    "\n",
    "searchsortedlast(grid, 5.5)"
   ]
  },
  {
   "cell_type": "code",
   "execution_count": 21,
   "metadata": {
    "collapsed": false
   },
   "outputs": [
    {
     "data": {
      "text/plain": [
       "h (generic function with 1 method)"
      ]
     },
     "execution_count": 21,
     "metadata": {},
     "output_type": "execute_result"
    }
   ],
   "source": [
    "function h(grid, vals, x)\n",
    "    i = searchsortedlast(grid, x)\n",
    "    \n",
    "    if i == 0 || i == length(grid)\n",
    "        return 0\n",
    "    end\n",
    "    \n",
    "    interpolated_value = (vals[i+1]-vals[i])/(grid[i+1]-grid[i])*(x-grid[i])+vals[i]\n",
    "    \n",
    "    return interpolated_value\n",
    "end"
   ]
  },
  {
   "cell_type": "code",
   "execution_count": 22,
   "metadata": {
    "collapsed": false
   },
   "outputs": [
    {
     "name": "stdout",
     "output_type": "stream",
     "text": [
      "4.5\n"
     ]
    }
   ],
   "source": [
    "grid = [0, 2, 4, 6, 8, 10]\n",
    "vals = [1, 4, 5, 8, 9, 11]\n",
    "println(h(grid, vals, 3)) "
   ]
  },
  {
   "cell_type": "code",
   "execution_count": 24,
   "metadata": {
    "collapsed": false
   },
   "outputs": [
    {
     "data": {
      "text/plain": [
       "ellenpola (generic function with 1 method)"
      ]
     },
     "execution_count": 24,
     "metadata": {},
     "output_type": "execute_result"
    }
   ],
   "source": [
    "function ellenpola(grid, vals)\n",
    "    function func(x)\n",
    "        i = searchsortedlast(grid, x)\n",
    "    \n",
    "        if i == 0 || i == length(grid)\n",
    "            return 0\n",
    "        end\n",
    "\n",
    "        interpolated_value = (vals[i+1]-vals[i])/(grid[i+1]-grid[i])*(x-grid[i])+vals[i]\n",
    "\n",
    "        return interpolated_value\n",
    "\n",
    "    end\n",
    "\n",
    "    return func\n",
    "end"
   ]
  },
  {
   "cell_type": "code",
   "execution_count": 25,
   "metadata": {
    "collapsed": false
   },
   "outputs": [
    {
     "data": {
      "text/plain": [
       "4.5"
      ]
     },
     "execution_count": 25,
     "metadata": {},
     "output_type": "execute_result"
    }
   ],
   "source": [
    "grid = [0, 2, 4, 6, 8, 10]\n",
    "vals = [1, 4, 5, 8, 9, 11]\n",
    "my_func = ellenpola(grid,vals)\n",
    "my_func(3)\n"
   ]
  },
  {
   "cell_type": "code",
   "execution_count": 26,
   "metadata": {
    "collapsed": false
   },
   "outputs": [
    {
     "data": {
      "text/plain": [
       "8.5"
      ]
     },
     "execution_count": 26,
     "metadata": {},
     "output_type": "execute_result"
    }
   ],
   "source": [
    "my_func(7)"
   ]
  },
  {
   "cell_type": "code",
   "execution_count": 21,
   "metadata": {
    "collapsed": false
   },
   "outputs": [
    {
     "data": {
      "text/plain": [
       "ellenpola (generic function with 1 method)"
      ]
     },
     "execution_count": 21,
     "metadata": {},
     "output_type": "execute_result"
    }
   ],
   "source": [
    "function ellenpola(grid,vals) \n",
    "    function func(x)\n",
    "        i = searchsortedlast(grid, x)\n",
    "        if i == 0 || i == length(grid)\n",
    "            return AbstractVector\n",
    "        else\n",
    "            interpolated_value =  (vals[i+1]-vals[i])/(grid[i+1]-grid[i])*(x-grid[i])+vals[i]\n",
    "            return interpolated_value\n",
    "        end\n",
    "    return func\n",
    "    end\n",
    "end"
   ]
  },
  {
   "cell_type": "code",
   "execution_count": 22,
   "metadata": {
    "collapsed": false
   },
   "outputs": [
    {
     "name": "stdout",
     "output_type": "stream",
     "text": [
      "2.5\n",
      "8.5\n",
      "AbstractArray{T,1}\n"
     ]
    }
   ],
   "source": [
    "grid = [0, 2, 4, 6, 8, 10]\n",
    "vals = [1, 4, 5, 8, 9, 11]\n",
    "my_func = ellenpola(grid,vals)\n",
    "\n",
    "println(my_func(1))\n",
    "println(my_func(7))\n",
    "println(my_func(11))"
   ]
  },
  {
   "cell_type": "code",
   "execution_count": 2,
   "metadata": {
    "collapsed": false
   },
   "outputs": [
    {
     "data": {
      "text/plain": [
       "ellenpola (generic function with 1 method)"
      ]
     },
     "execution_count": 2,
     "metadata": {},
     "output_type": "execute_result"
    }
   ],
   "source": [
    "function ellenpola(grid, vals)\n",
    "    function func(x)\n",
    "    i = searchsortedlast(grid, x)\n",
    "    if i == 0 || i == length(grid)\n",
    "        return 0\n",
    "    end\n",
    "    interpolated_value = (vals[i+1]-vals[i])/(grid[i+1]-grid[i])*(x-grid[i])+vals[i]\n",
    "    return interpolated_value\n",
    "  end\n",
    "\n",
    "    \n",
    "    function func{T<:Real}(x::AbstractVector{T})\n",
    "    n = length(x)\n",
    "    out = Array(Float64, n)\n",
    "\n",
    "    for i in 1:n\n",
    "        i = searchsortedlast(grid, x)\n",
    "        if i == 0 || i == length(grid)\n",
    "            interpolated_value = 0\n",
    "        else\n",
    "            interpolated_value = (vals[i+1]-vals[i])/(grid[i+1]-grid[i])*(x-grid[i])+vals[i]\n",
    "        end\n",
    "        out[i] = interpolated_value\n",
    "    end\n",
    "\n",
    "    return out\n",
    "   end\n",
    "end"
   ]
  },
  {
   "cell_type": "code",
   "execution_count": 10,
   "metadata": {
    "collapsed": false
   },
   "outputs": [
    {
     "name": "stderr",
     "output_type": "stream",
     "text": [
      "WARNING: replacing module MyLinInterp\n"
     ]
    },
    {
     "data": {
      "text/plain": [
       "MyLinInterp"
      ]
     },
     "execution_count": 10,
     "metadata": {},
     "output_type": "execute_result"
    }
   ],
   "source": [
    "module MyLinInterp\n",
    "\n",
    "  export LinearInterpolation\n",
    "\n",
    "  immutable LinearInterpolation \n",
    "    grid::Array\n",
    "    vals::Array\n",
    "　end\n",
    "\n",
    "　function call(a::LinearInterpolation, x::Real)\n",
    "    i = searchsortedlast(grid, x)\n",
    "    if i == 0 || i == length(grid)\n",
    "        return 0\n",
    " 　　end\n",
    "    interpolated_value = (vals[i+1]-vals[i])/(grid[i+1]-grid[i])*(x-grid[i])+vals[i]\n",
    "    return interpolated_value\n",
    "　　　\n",
    "　end\n",
    "\n",
    "　function call{T<:Real}(a::LinearInterpolation, x::AbstractVector{T})\n",
    "    n = length(x)\n",
    "    out = Array(Float64, n)\n",
    "\n",
    "    for i in 1:n\n",
    "        i = searchsortedlast(grid, x)\n",
    "        if i == 0 || i == length(grid)\n",
    "            interpolated_value = 0\n",
    "        else\n",
    "            interpolated_value = (vals[i+1]-vals[i])/(grid[i+1]-grid[i])*(x-grid[i])+vals[i]\n",
    "        end\n",
    "        out[i] = interpolated_value\n",
    "    end\n",
    "\n",
    "    return out\n",
    "　end\n",
    "　　\n",
    "\n",
    "end"
   ]
  },
  {
   "cell_type": "code",
   "execution_count": 1,
   "metadata": {
    "collapsed": false
   },
   "outputs": [
    {
     "ename": "LoadError",
     "evalue": "LoadError: UndefVarError: MyInterpolations not defined\nwhile loading In[1], in expression starting on line 1",
     "output_type": "error",
     "traceback": [
      "LoadError: UndefVarError: MyInterpolations not defined\nwhile loading In[1], in expression starting on line 1",
      ""
     ]
    }
   ],
   "source": [
    "Pkg.add(MyInterpolations)"
   ]
  },
  {
   "cell_type": "code",
   "execution_count": 2,
   "metadata": {
    "collapsed": false
   },
   "outputs": [
    {
     "name": "stderr",
     "output_type": "stream",
     "text": [
      "INFO: Checking out MyInterpolations master...\n",
      "INFO: Pulling MyInterpolations latest master...\n",
      "WARNING: julia is fixed at 0.4.5 conflicting with requirement for MyInterpolations: [0.5.0,∞)\n",
      "INFO: No packages to install, update or remove\n"
     ]
    }
   ],
   "source": [
    "Pkg.checkout(\"MyInterpolations\", \"master\")"
   ]
  },
  {
   "cell_type": "code",
   "execution_count": 6,
   "metadata": {
    "collapsed": false
   },
   "outputs": [
    {
     "name": "stderr",
     "output_type": "stream",
     "text": [
      "INFO: Removing MyInterpolations (unregistered)\n"
     ]
    }
   ],
   "source": [
    "Pkg.rm(\"MyInterpolations\")"
   ]
  },
  {
   "cell_type": "code",
   "execution_count": 7,
   "metadata": {
    "collapsed": false
   },
   "outputs": [
    {
     "name": "stderr",
     "output_type": "stream",
     "text": [
      "INFO: Nothing to be done\n"
     ]
    }
   ],
   "source": [
    "Pkg.rm(\"MyInterpolations\")"
   ]
  },
  {
   "cell_type": "code",
   "execution_count": 8,
   "metadata": {
    "collapsed": false
   },
   "outputs": [
    {
     "name": "stderr",
     "output_type": "stream",
     "text": [
      "INFO: Updating METADATA...\n",
      "INFO: Updating cache of BinDeps...\n",
      "INFO: Updating cache of StatsBase...\n",
      "INFO: Updating cache of Distributions...\n",
      "INFO: Updating cache of Compat...\n",
      "INFO: Updating cache of JSON...\n",
      "INFO: Updating cache of PyPlot...\n",
      "INFO: Updating cache of PyCall...\n",
      "INFO: Updating cache of Nettle...\n",
      "INFO: Updating cache of LaTeXStrings...\n",
      "INFO: Computing changes...\n",
      "INFO: Cloning cache of MacroTools from git://github.com/MikeInnes/MacroTools.jl.git\n",
      "INFO: Upgrading BinDeps: v0.3.21 => v0.4.7\n",
      "INFO: Installing Calculus v0.2.2\n",
      "INFO: Upgrading ColorTypes: v0.2.2 => v0.2.12\n",
      "INFO: Upgrading Colors: v0.6.3 => v0.6.9\n",
      "INFO: Upgrading Compat: v0.7.14 => v0.25.2\n",
      "INFO: Upgrading Conda: v0.1.9 => v0.5.3\n",
      "INFO: Upgrading Distributions: v0.8.10 => v0.11.1\n",
      "INFO: Upgrading FixedPointNumbers: v0.1.3 => v0.2.1\n",
      "INFO: Upgrading Homebrew: v0.2.0 => v0.5.6\n",
      "INFO: Upgrading IJulia: v1.1.9 => v1.4.1\n",
      "INFO: Upgrading JSON: v0.5.0 => v0.9.1\n",
      "INFO: Upgrading LaTeXStrings: v0.1.6 => v0.2.1\n",
      "INFO: Installing MacroTools v0.3.6\n",
      "INFO: Upgrading Nettle: v0.2.3 => v0.3.0\n",
      "INFO: Upgrading PDMats: v0.4.1 => v0.6.0\n",
      "INFO: Upgrading PyCall: v1.4.0 => v1.11.1\n",
      "INFO: Upgrading PyPlot: v2.1.1 => v2.3.2\n",
      "INFO: Installing Rmath v0.1.6\n",
      "INFO: Upgrading SHA: v0.1.2 => v0.3.2\n",
      "INFO: Upgrading StatsBase: v0.8.0 => v0.12.0\n",
      "INFO: Upgrading StatsFuns: v0.2.0 => v0.4.0\n",
      "INFO: Upgrading URIParser: v0.1.3 => v0.1.8\n",
      "INFO: Upgrading ZMQ: v0.3.1 => v0.4.2\n",
      "INFO: Removing ArrayViews v0.6.4\n",
      "INFO: Removing Dates v0.4.4\n",
      "INFO: Building Conda\n",
      "INFO: Recompiling stale cache file /Users/ellen/.julia/lib/v0.4/Compat.ji for module Compat.\n",
      "INFO: Building Rmath\n",
      "INFO: Recompiling stale cache file /Users/ellen/.julia/lib/v0.4/BinDeps.ji for module BinDeps.\n",
      "INFO: Recompiling stale cache file /Users/ellen/.julia/lib/v0.4/URIParser.ji for module URIParser.\n",
      "INFO: Recompiling stale cache file /Users/ellen/.julia/lib/v0.4/SHA.ji for module SHA.\n",
      "INFO: Building Homebrew\n",
      "INFO: Recompiling stale cache file /Users/ellen/.julia/lib/v0.4/JSON.ji for module JSON.\n",
      "warning: no common commits\n",
      "From https://github.com/Homebrew/brew\n",
      " + 21ce7a5...7000f50 master     -> origin/master  (forced update)\n"
     ]
    },
    {
     "name": "stdout",
     "output_type": "stream",
     "text": [
      "HEAD is now at 7000f50 Merge pull request #2646 from sjackman/replace_text_in_files\n"
     ]
    },
    {
     "name": "stderr",
     "output_type": "stream",
     "text": [
      "/Users/ellen/.julia/v0.4/Homebrew/deps/usr/Library/Homebrew/cmd/update.sh: line 6: /Users/ellen/.julia/v0.4/Homebrew/deps/usr/Library/ENV/scm/git: No such file or directory\n",
      "==============================[ ERROR: Homebrew ]===============================\n",
      "\n",
      "LoadError: failed process: Process(`/Users/ellen/.julia/v0.4/Homebrew/deps/usr/bin/brew update --force`, ProcessExited(1)) [1]\n",
      "while loading /Users/ellen/.julia/v0.4/Homebrew/deps/build.jl, in expression starting on line 2\n",
      "\n",
      "================================================================================\n",
      "INFO: Building Nettle\n",
      "INFO: Building ZMQ\n",
      "INFO: Building IJulia\n",
      "INFO: Recompiling stale cache file /Users/ellen/.julia/lib/v0.4/Conda.ji for module Conda.\n",
      "INFO: Installing Jupyter via the Conda package.\n"
     ]
    },
    {
     "name": "stdout",
     "output_type": "stream",
     "text": [
      "Fetching package metadata: ....\n",
      "Solving package specifications: .........\n",
      "\n",
      "Package plan for installation in environment /Users/ellen/.julia/v0.4/Conda/deps/usr:\n",
      "\n",
      "The following packages will be downloaded:\n",
      "\n",
      "    package                    |            build\n",
      "    ---------------------------|-----------------\n",
      "    conda-env-2.6.0            |                0          601 B\n",
      "    sqlite-3.13.0              |                0         1.4 MB\n",
      "    python-2.7.13              |                0         9.1 MB\n",
      "    asn1crypto-0.22.0          |           py27_0         145 KB\n",
      "    enum34-1.1.6               |           py27_0          54 KB\n",
      "    idna-2.5                   |           py27_0         121 KB\n",
      "    ipaddress-1.0.18           |           py27_0          30 KB\n",
      "    pycparser-2.17             |           py27_0         153 KB\n",
      "    pyparsing-2.1.4            |           py27_0          70 KB\n",
      "    requests-2.12.4            |           py27_0         752 KB\n",
      "    ruamel_yaml-0.11.14        |           py27_1         197 KB\n",
      "    cffi-1.10.0                |           py27_0         195 KB\n",
      "    packaging-16.8             |           py27_0          29 KB\n",
      "    cryptography-1.8.1         |           py27_0         468 KB\n",
      "    pyopenssl-17.0.0           |           py27_0          73 KB\n",
      "    conda-4.3.18               |           py27_0         492 KB\n",
      "    jupyter-1.0.0              |           py27_3           3 KB\n",
      "    ------------------------------------------------------------\n",
      "                                           Total:        13.2 MB\n",
      "\n",
      "The following NEW packages will be INSTALLED:\n",
      "\n",
      "    asn1crypto:   0.22.0-py27_0 \n",
      "    cffi:         1.10.0-py27_0 \n",
      "    cryptography: 1.8.1-py27_0  \n",
      "    enum34:       1.1.6-py27_0  \n",
      "    idna:         2.5-py27_0    \n",
      "    ipaddress:    1.0.18-py27_0 \n",
      "    packaging:    16.8-py27_0   \n",
      "    pycparser:    2.17-py27_0   \n",
      "    pyopenssl:    17.0.0-py27_0 \n",
      "    pyparsing:    2.1.4-py27_0  \n",
      "    ruamel_yaml:  0.11.14-py27_1\n",
      "\n",
      "The following packages will be UPDATED:\n",
      "\n",
      "    conda:        4.0.5-py27_0 --> 4.3.18-py27_0 \n",
      "    conda-env:    2.4.5-py27_0 --> 2.6.0-0       \n",
      "    jupyter:      1.0.0-py27_2 --> 1.0.0-py27_3  \n",
      "    python:       2.7.11-0     --> 2.7.13-0      \n",
      "    requests:     2.9.1-py27_0 --> 2.12.4-py27_0 \n",
      "    sqlite:       3.9.2-0      --> 3.13.0-0      \n",
      "\n",
      "Fetching packages ...\n",
      "conda-env-2.6. 100% |###############################| Time: 0:00:00 363.12 kB/s\n",
      "sqlite-3.13.0- 100% |###############################| Time: 0:00:25  56.57 kB/s\n",
      "python-2.7.13- 100% |###############################| Time: 0:01:56  82.28 kB/s 0:00:26  51.52 kB/s         | Time: 0:01:04  72.97 kB/s####################     | Time: 0:01:38  81.66 kB/s\n",
      "asn1crypto-0.2 100% |###############################| Time: 0:00:00 286.12 kB/s\n",
      "enum34-1.1.6-p 100% |###############################| Time: 0:00:00 240.08 kB/s\n",
      "idna-2.5-py27_ 100% |###############################| Time: 0:00:00 163.37 kB/s\n",
      "ipaddress-1.0. 100% |###############################| Time: 0:00:00 246.08 kB/s\n",
      "pycparser-2.17 100% |###############################| Time: 0:00:00 285.04 kB/s\n",
      "pyparsing-2.1. 100% |###############################| Time: 0:00:00 106.85 kB/s\n",
      "requests-2.12. 100% |###############################| Time: 0:00:14  54.30 kB/s\n",
      "ruamel_yaml-0. 100% |###############################| Time: 0:00:01 182.39 kB/smel_yaml-0.   8% |##                             | Time: 0:00:00 229.93 kB/s\n",
      "cffi-1.10.0-py 100% |###############################| Time: 0:00:02  96.79 kB/s\n",
      "packaging-16.8 100% |###############################| Time: 0:00:00  77.29 kB/s\n",
      "cryptography-1 100% |###############################| Time: 0:00:06  78.17 kB/s\n",
      "pyopenssl-17.0 100% |###############################| Time: 0:00:00 184.94 kB/s\n",
      "conda-4.3.18-p 100% |###############################| Time: 0:00:02 175.59 kB/s\n",
      "jupyter-1.0.0- 100% |###############################| Time: 0:00:00   2.29 MB/s\n",
      "Extracting packages ...\n",
      "[      COMPLETE      ]|##################################################| 100%\n",
      "Unlinking packages ...\n",
      "[      COMPLETE      ]|##################################################| 100%\n",
      "Linking packages ...\n",
      "[      COMPLETE      ]|##################################################| 100%\n"
     ]
    },
    {
     "name": "stderr",
     "output_type": "stream",
     "text": [
      "INFO: Found Jupyter version 4.1.0: /Users/ellen/.julia/v0.4/Conda/deps/usr/bin/jupyter\n",
      "Writing IJulia kernelspec to /Users/ellen/.julia/v0.4/IJulia/deps/julia-0.4/kernel.json ...\n",
      "Installing julia kernelspec julia-0.4\n",
      "[InstallKernelSpec] Removing existing kernelspec in /Users/ellen/Library/Jupyter/kernels/julia-0.4\n",
      "[InstallKernelSpec] Installed kernelspec julia-0.4 in /Users/ellen/Library/Jupyter/kernels/julia-0.4\n",
      "INFO: Building PyCall\n",
      "INFO: PyCall is using /usr/bin/python (Python 2.7.10) at /usr/bin/python, libpython = /System/Library/Frameworks/Python.framework/Versions/2.7/lib/libpython2.7\n",
      "INFO: /Users/ellen/.julia/v0.4/PyCall/deps/deps.jl has been updated\n",
      "INFO: /Users/ellen/.julia/v0.4/PyCall/deps/PYTHON has been updated\n",
      "\n",
      "================================[ BUILD ERRORS ]================================\n",
      "\n",
      "WARNING: Homebrew had build errors.\n",
      "\n",
      " - packages with build errors remain installed in /Users/ellen/.julia/v0.4\n",
      " - build the package(s) and all dependencies with `Pkg.build(\"Homebrew\")`\n",
      " - build a single package by running its `deps/build.jl` script\n",
      "\n",
      "================================================================================\n"
     ]
    }
   ],
   "source": [
    "Pkg.update()"
   ]
  },
  {
   "cell_type": "code",
   "execution_count": null,
   "metadata": {
    "collapsed": true
   },
   "outputs": [],
   "source": []
  }
 ],
 "metadata": {
  "kernelspec": {
   "display_name": "Julia 0.4.5",
   "language": "julia",
   "name": "julia-0.4"
  },
  "language_info": {
   "file_extension": ".jl",
   "mimetype": "application/julia",
   "name": "julia",
   "version": "0.4.5"
  }
 },
 "nbformat": 4,
 "nbformat_minor": 0
}
